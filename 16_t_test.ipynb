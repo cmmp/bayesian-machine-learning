{
 "cells": [
  {
   "cell_type": "code",
   "execution_count": 1,
   "metadata": {},
   "outputs": [],
   "source": [
    "import numpy as np\n",
    "from scipy import stats"
   ]
  },
  {
   "cell_type": "code",
   "execution_count": 2,
   "metadata": {},
   "outputs": [],
   "source": [
    "N = 10\n",
    "a = np.random.randn(N) + 2 # mu is 2\n",
    "b = np.random.randn(N)"
   ]
  },
  {
   "cell_type": "code",
   "execution_count": 5,
   "metadata": {},
   "outputs": [
    {
     "name": "stdout",
     "output_type": "stream",
     "text": [
      "t value: 4.42052598\t p value: 0.00033014\n",
      "t2 value: 4.42052598\t p2 value: 0.00033014\n"
     ]
    }
   ],
   "source": [
    "var_a = a.var(ddof=1) # unbiased estimate using N - 1\n",
    "var_b = b.var(ddof=1)\n",
    "s = np.sqrt( (var_a + var_b) / 2)\n",
    "t = (a.mean() - b.mean()) / (s * np.sqrt(2.0 / N))\n",
    "df = 2 * N - 2\n",
    "p = 2 * (1 - stats.t.cdf(t, df=df)) # multiplying by 2 because of two-sided test\n",
    "print(\"t value: %.8f\\t p value: %.8f\" % (t, p))\n",
    "t2, p2 = stats.ttest_ind(a, b)\n",
    "print(\"t2 value: %.8f\\t p2 value: %.8f\" % (t2, p2))"
   ]
  },
  {
   "cell_type": "code",
   "execution_count": null,
   "metadata": {},
   "outputs": [],
   "source": []
  }
 ],
 "metadata": {
  "kernelspec": {
   "display_name": "Python 3",
   "language": "python",
   "name": "python3"
  },
  "language_info": {
   "codemirror_mode": {
    "name": "ipython",
    "version": 3
   },
   "file_extension": ".py",
   "mimetype": "text/x-python",
   "name": "python",
   "nbconvert_exporter": "python",
   "pygments_lexer": "ipython3",
   "version": "3.6.6"
  }
 },
 "nbformat": 4,
 "nbformat_minor": 2
}
